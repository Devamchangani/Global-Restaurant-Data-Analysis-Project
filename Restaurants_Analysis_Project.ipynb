{
 "cells": [
  {
   "cell_type": "markdown",
   "id": "671581c1-3101-49de-8a34-05241861ac88",
   "metadata": {},
   "source": [
    "# Import All Packege and CSV File"
   ]
  },
  {
   "cell_type": "code",
   "execution_count": 82,
   "id": "5f9ab1d0-ef9f-4c8b-a54a-d3339a218698",
   "metadata": {
    "scrolled": true
   },
   "outputs": [
    {
     "data": {
      "text/plain": [
       "Index(['Restaurant ID', 'Restaurant Name', 'Country Code', 'City', 'Address',\n",
       "       'Locality', 'Locality Verbose', 'Longitude', 'Latitude', 'Cuisines',\n",
       "       'Average Cost for two', 'Currency', 'Has Table booking',\n",
       "       'Has Online delivery', 'Is delivering now', 'Switch to order menu',\n",
       "       'Price range', 'Aggregate rating', 'Rating color', 'Rating text',\n",
       "       'Votes'],\n",
       "      dtype='object')"
      ]
     },
     "execution_count": 82,
     "metadata": {},
     "output_type": "execute_result"
    }
   ],
   "source": [
    "import pandas as pd\n",
    "import matplotlib.pyplot as plt\n",
    "from sklearn.cluster import KMeans \n",
    "import re\n",
    "from nltk.corpus import stopwords\n",
    "from textblob import TextBlob\n",
    "from collections import Counter\n",
    "import nltk\n",
    "from sklearn import preprocessing\n",
    "\n",
    "# Load the dataset\n",
    "file_path = 'Dataset .csv'\n",
    "df = pd.read_csv(file_path)\n",
    "df.columns"
   ]
  },
  {
   "cell_type": "markdown",
   "id": "78357929-4d82-46e0-bbdf-f3368e886352",
   "metadata": {},
   "source": [
    "# LEVEL 1"
   ]
  },
  {
   "cell_type": "markdown",
   "id": "30337d1f-7f13-42c1-aede-b12e69bd8f52",
   "metadata": {},
   "source": [
    "# Task 1 : Top Cuisines\n",
    "\n",
    "1.  Determine the top three most common cuisines in the dataset.\n",
    "2.  Calculate the percentage of restaurants that serve each of the top cuisines.\n"
   ]
  },
  {
   "cell_type": "code",
   "execution_count": 86,
   "id": "a62edc93-7fa1-41f1-922b-40e1e7c88245",
   "metadata": {
    "scrolled": true
   },
   "outputs": [
    {
     "name": "stdout",
     "output_type": "stream",
     "text": [
      "Top 3 most common cuisines:\n",
      "Cuisines\n",
      "North Indian    3960\n",
      "Chinese         2735\n",
      "Fast Food       1986\n",
      "Name: count, dtype: int64\n",
      "\n",
      "Percentage of Restaurants Serving Each of the Top Cuisines:\n",
      "Cuisines\n",
      "North Indian    41.461627\n",
      "Chinese         28.635745\n",
      "Fast Food       20.793634\n",
      "Name: count, dtype: float64\n"
     ]
    }
   ],
   "source": [
    "cuisine_column = 'Cuisines'\n",
    "cuisine_series = df[cuisine_column].str.split(',').explode().str.strip()\n",
    "\n",
    "cuisine_counts = cuisine_series.value_counts()\n",
    "\n",
    "top_cuisines = cuisine_counts.head(3)\n",
    "\n",
    "total_restaurants = len(df)\n",
    "top_cuisines_percentage = (top_cuisines / total_restaurants) * 100\n",
    "\n",
    "print(\"Top 3 most common cuisines:\")\n",
    "print(top_cuisines)\n",
    "\n",
    "print(\"\\nPercentage of Restaurants Serving Each of the Top Cuisines:\")\n",
    "print(top_cuisines_percentage)"
   ]
  },
  {
   "cell_type": "markdown",
   "id": "f69563ab-18ea-4234-b50e-6a96c98da2ea",
   "metadata": {},
   "source": [
    "# Task 2 : City Analysis\n",
    "\n",
    "1.  Identify the city with the highest number of restaurants in the dataset.\n",
    "2.  Calculate the average rating for restaurants in each city. \n",
    "3.  Determine the city with the highest average rating.\n"
   ]
  },
  {
   "cell_type": "code",
   "execution_count": 89,
   "id": "f900d17c-99cb-4d5e-b5ab-7c60aa0b2cb9",
   "metadata": {},
   "outputs": [
    {
     "name": "stdout",
     "output_type": "stream",
     "text": [
      "City with the highest number of restaurants: New Delhi\n",
      "Number of restaurants in New Delhi: 5473\n",
      "\n",
      "Average rating for restaurants in each city:\n",
      "City\n",
      "Abu Dhabi          4.300000\n",
      "Agra               3.965000\n",
      "Ahmedabad          4.161905\n",
      "Albany             3.555000\n",
      "Allahabad          3.395000\n",
      "                     ...   \n",
      "Weirton            3.900000\n",
      "Wellington City    4.250000\n",
      "Winchester Bay     3.200000\n",
      "Yorkton            3.300000\n",
      "��stanbul          4.292857\n",
      "Name: Aggregate rating, Length: 141, dtype: float64\n",
      "\n",
      "City with the highest average rating: Inner City\n",
      "Highest average rating: 4.90\n"
     ]
    }
   ],
   "source": [
    "city_counts = df['City'].value_counts()\n",
    "city_with_most_restaurants = city_counts.idxmax()\n",
    "\n",
    "average_ratings = df.groupby('City')['Aggregate rating'].mean()\n",
    "\n",
    "city_with_highest_avg_rating = average_ratings.idxmax()\n",
    "highest_avg_rating = average_ratings.max()\n",
    "\n",
    "\n",
    "print(f\"City with the highest number of restaurants: {city_with_most_restaurants}\")\n",
    "print(f\"Number of restaurants in {city_with_most_restaurants}: {city_counts[city_with_most_restaurants]}\")\n",
    "\n",
    "print(\"\\nAverage rating for restaurants in each city:\")\n",
    "print(average_ratings)\n",
    "\n",
    "print(f\"\\nCity with the highest average rating: {city_with_highest_avg_rating}\")\n",
    "print(f\"Highest average rating: {highest_avg_rating:.2f}\")"
   ]
  },
  {
   "cell_type": "markdown",
   "id": "8ecf02d0-62ef-47c5-bdc2-85b57e79ce35",
   "metadata": {},
   "source": [
    "# Task 3 : Price Range Distribution\n",
    "\n",
    "1.  Create a histogram or bar chart to visualize the distribution of price ranges among the restaurants.\n",
    "2.  Calculate the percentage of restaurants in each price range category.\n"
   ]
  },
  {
   "cell_type": "code",
   "execution_count": 92,
   "id": "76cafc80-0c2f-4eea-b4b0-5689f4a56278",
   "metadata": {},
   "outputs": [
    {
     "data": {
      "image/png": "[encoded data removed]",
      "text/plain": [
       "<Figure size 1000x600 with 1 Axes>"
      ]
     },
     "metadata": {},
     "output_type": "display_data"
    },
    {
     "name": "stdout",
     "output_type": "stream",
     "text": [
      "Percentage of Restaurants in Each Price Range Category:\n",
      "Price range\n",
      "1    46.529159\n",
      "2    32.593446\n",
      "3    14.741912\n",
      "4     6.135483\n",
      "Name: count, dtype: float64\n"
     ]
    }
   ],
   "source": [
    "price_range_counts = df['Price range'].value_counts()\n",
    "\n",
    "total_restaurants = len(df)\n",
    "price_range_percentage = (price_range_counts / total_restaurants) * 100\n",
    "\n",
    "plt.figure(figsize=(10, 6))\n",
    "price_range_counts.plot(kind='bar')\n",
    "plt.title('Distribution of Price Ranges Among Restaurants')\n",
    "plt.xlabel('Price Range')\n",
    "plt.ylabel('Number of Restaurants')\n",
    "plt.xticks(rotation=45)\n",
    "plt.show()\n",
    "\n",
    "print(\"Percentage of Restaurants in Each Price Range Category:\")\n",
    "print(price_range_percentage)"
   ]
  },
  {
   "cell_type": "markdown",
   "id": "596bc19a-3eac-4fe4-a178-dc975f3280e2",
   "metadata": {},
   "source": [
    "# Task 4 : Online Delivery\n",
    "\n",
    "1.  Determine the percentage of restaurants that offer online delivery.\n",
    "2.  Compare the average ratings of restaurants with and without online delivery.\n"
   ]
  },
  {
   "cell_type": "code",
   "execution_count": 95,
   "id": "8e8d0882-465d-490a-9f20-c61af2e98d00",
   "metadata": {},
   "outputs": [
    {
     "name": "stdout",
     "output_type": "stream",
     "text": [
      "Has Online delivery\n",
      "No     7100\n",
      "Yes    2451\n",
      "Name: count, dtype: int64\n",
      "\n",
      " Has Online delivery\n",
      "No     74.337766\n",
      "Yes    25.662234\n",
      "Name: count, dtype: float64\n",
      "\n",
      " Percentage of restaurants that offer online delivery: 25.662234321013504\n",
      "\n",
      "Has Online delivery\n",
      "No     2.465296\n",
      "Yes    3.248837\n",
      "Name: Aggregate rating, dtype: float64\n",
      "\n",
      "Average ratings of restaurants with online delivery is 3.2488372093023252  and without online delivery is 2.465295774647887\n"
     ]
    }
   ],
   "source": [
    "r = len(df['Restaurant Name'])\n",
    "x = df['Has Online delivery'].value_counts()\n",
    "print(x)\n",
    "percentage_restaurant = (x/r)*100\n",
    "print('\\n',percentage_restaurant)\n",
    "print('\\n Percentage of restaurants that offer online delivery:', percentage_restaurant.iloc[1])\n",
    "\n",
    "\n",
    "avg_rating=df['Aggregate rating'].groupby(df ['Has Online delivery']).mean()\n",
    "print()\n",
    "print(avg_rating)\n",
    "print('\\nAverage ratings of restaurants with online delivery is', avg_rating.iloc[1],' and without online delivery is', avg_rating.iloc[0])"
   ]
  },
  {
   "cell_type": "markdown",
   "id": "4cf1afcd-2f8a-46e9-a145-47ff94ed411e",
   "metadata": {},
   "source": [
    "#  LEVEL 2 "
   ]
  },
  {
   "cell_type": "markdown",
   "id": "43406760-4577-4daf-a0ce-11c03ca2667e",
   "metadata": {},
   "source": [
    "# Task 1 : Restaurant Ratings\n",
    "\n",
    "1.  Analyze the distribution of aggregate ratings and determine the most common rating range.\n",
    "2.  Calculate the average number of votes received by restaurants."
   ]
  },
  {
   "cell_type": "code",
   "execution_count": 99,
   "id": "394b4fbb-51ac-4995-a0cf-e647a275987b",
   "metadata": {},
   "outputs": [
    {
     "data": {
      "image/png": "[encoded data removed]",
      "text/plain": [
       "<Figure size 1000x600 with 1 Axes>"
      ]
     },
     "metadata": {},
     "output_type": "display_data"
    },
    {
     "name": "stdout",
     "output_type": "stream",
     "text": [
      "Most common rating range: 0.0 with 2148 Restaurant\n",
      "Average number of votes received by restaurants: 156.91\n"
     ]
    }
   ],
   "source": [
    "plt.figure(figsize=(10, 6))\n",
    "df['Aggregate rating'].plot(kind='hist', bins=20, edgecolor='black')\n",
    "plt.title('Distribution of Aggregate Ratings')\n",
    "plt.xlabel('Aggregate Rating')\n",
    "plt.ylabel('Number of Restaurants')\n",
    "plt.grid(True)\n",
    "plt.show()\n",
    "\n",
    "# Determine the most common rating range\n",
    "rating_counts = df['Aggregate rating'].value_counts().sort_index()\n",
    "most_common_rating_range = rating_counts.idxmax()\n",
    "most_common_rating_count= rating_counts.max()\n",
    "print(f\"Most common rating range: {most_common_rating_range} with {most_common_rating_count} Restaurant\")\n",
    "\n",
    "\n",
    "average_votes = df['Votes'].mean()\n",
    "print(f\"Average number of votes received by restaurants: {average_votes:.2f}\")"
   ]
  },
  {
   "cell_type": "markdown",
   "id": "a8b36394-dfb8-434a-b533-f986099afd2c",
   "metadata": {},
   "source": [
    "# Task 2 : Cuisine Combination\n",
    "\n",
    "1.  Identify the most common combinations of cuisines in the dataset.\n",
    "2.  Determine if certain cuisine combinations tend to have higher ratings.\n"
   ]
  },
  {
   "cell_type": "code",
   "execution_count": 102,
   "id": "52480217-fc71-4256-b437-34352aade8f8",
   "metadata": {},
   "outputs": [
    {
     "name": "stdout",
     "output_type": "stream",
     "text": [
      "Top common combinations of cuisines: Cuisines\n",
      "North Indian             936\n",
      "North Indian, Chinese    511\n",
      "Chinese                  354\n",
      "Name: count, dtype: int64\n",
      " American, BBQ, Sandwich cuisines Combination has highest rating which is 4.9. \n"
     ]
    }
   ],
   "source": [
    "c = df['Cuisines'].value_counts()\n",
    "print('Top common combinations of cuisines:', c.head(3))\n",
    "\n",
    "higher_rating=df['Aggregate rating'].groupby(df['Cuisines']).max()\n",
    "print(f\" {higher_rating.idxmax()} cuisines Combination has highest rating which is {higher_rating.max()}. \")"
   ]
  },
  {
   "cell_type": "markdown",
   "id": "9a18e3e4-6e3d-4214-b8c7-7412f6b6126b",
   "metadata": {},
   "source": [
    "# Task 3 : Geographic Analysis\n",
    "\n",
    "1.  Plot the locations of restaurants on a map using longitude and latitude coordinates.\n",
    "2.  Identify any patterns or clusters of restaurants in specific areas.\n"
   ]
  },
  {
   "cell_type": "code",
   "execution_count": 105,
   "id": "d692106d-354f-4b6d-bb07-b63eed44a445",
   "metadata": {},
   "outputs": [
    {
     "data": {
      "image/png": "[encoded data removed]",
      "text/plain": [
       "<Figure size 640x480 with 1 Axes>"
      ]
     },
     "metadata": {},
     "output_type": "display_data"
    },
    {
     "data": {
      "image/png": "[encoded data removed]",
      "text/plain": [
       "<Figure size 640x480 with 1 Axes>"
      ]
     },
     "metadata": {},
     "output_type": "display_data"
    }
   ],
   "source": [
    "plt.scatter(x=df['Longitude'], y=df['Latitude'],color='green')\n",
    "plt.xlabel('Longitude')\n",
    "plt.ylabel('Latitude')\n",
    "plt.show()\n",
    "\n",
    "coordinates = df[['Latitude', 'Longitude']]\n",
    "kmeans = KMeans(n_clusters=5, random_state=0).fit(coordinates)\n",
    "df['Cluster'] = kmeans.labels_\n",
    "plt.scatter(coordinates ['Longitude'], coordinates ['Latitude'], c=df['Cluster'], marker='o') \n",
    "plt.title('Restaurant Clusters')\n",
    "plt.xlabel('Longitude')\n",
    "plt.ylabel('Latitude')\n",
    "plt.show()"
   ]
  },
  {
   "cell_type": "markdown",
   "id": "87f6a669-48f8-4958-8118-42c2f09a3419",
   "metadata": {},
   "source": [
    "# Task 4 : Restaurant Chains\n",
    "\n",
    "1.  Identify if there are any restaurant chains present in the dataset.\n",
    "2.  Analyze the ratings and popularity of different restaurant chains.\n"
   ]
  },
  {
   "cell_type": "code",
   "execution_count": 108,
   "id": "7fcdf806-4ad5-4057-8be1-9ff0815f24e6",
   "metadata": {},
   "outputs": [
    {
     "name": "stdout",
     "output_type": "stream",
     "text": [
      "Restaurant chains: Restaurant Name\n",
      "Cafe Coffee Day       83\n",
      "Domino's Pizza        79\n",
      "Subway                63\n",
      "Green Chick Chop      51\n",
      "McDonald's            48\n",
      "                      ..\n",
      "Town Hall              2\n",
      "Halki Aanch            2\n",
      "Snack Junction         2\n",
      "Delhi Biryani Hut      2\n",
      "Beliram Degchiwala     2\n",
      "Name: count, Length: 734, dtype: int64\n",
      "               Restaurant Name  Aggregate rating  Votes\n",
      "629           Talaga Sampireun             4.900   5514\n",
      "8      AB's Absolute Barbecues             4.850   3151\n",
      "589           Silantro Fil-Mex             4.850   1364\n",
      "7    AB's - Absolute Barbecues             4.825  13400\n",
      "449         Naturals Ice Cream             4.800   3094\n",
      "..                         ...               ...    ...\n",
      "440           Murliwala Bakers             0.000      0\n",
      "538        Rajdhani Restaurant             0.000      0\n",
      "616                Street Cafe             0.000      0\n",
      "645              The Big Scoop             0.000      0\n",
      "713               Whatslife.in             0.000      0\n",
      "\n",
      "[734 rows x 3 columns]\n"
     ]
    }
   ],
   "source": [
    "restaurant_count=df['Restaurant Name'].value_counts() \n",
    "restaurant_chain=restaurant_count[restaurant_count>1]\n",
    "print('Restaurant chains:', restaurant_chain)\n",
    "\n",
    "\n",
    "chains_df = df[df['Restaurant Name'].isin (restaurant_chain.index)]\n",
    "chain_analysis = chains_df.groupby('Restaurant Name').agg({'Aggregate rating': 'mean', 'Votes': 'sum'}).reset_index()\n",
    "chain_analysis = chain_analysis.sort_values(by=['Aggregate rating', 'Votes'], ascending=[False, False])\n",
    "print(chain_analysis)"
   ]
  },
  {
   "cell_type": "markdown",
   "id": "544aef8d-1b12-46b6-a360-e17c56a81ee4",
   "metadata": {},
   "source": [
    "#  LEVEL 3 "
   ]
  },
  {
   "cell_type": "markdown",
   "id": "5109be8e-d094-4d28-a62e-eadd91f9b9db",
   "metadata": {},
   "source": [
    "# Task 1 : Restaurant Reviews\n",
    "\n",
    "1.  Analyze the text reviews to identify the most common positive and negative keywords. \n",
    "2.  Calculate the average length of reviews and explore if there is a relationship between review length and rating.\n"
   ]
  },
  {
   "cell_type": "code",
   "execution_count": 112,
   "id": "f1f3ed76-67d5-4176-957b-c4c6aa33cb23",
   "metadata": {},
   "outputs": [
    {
     "name": "stdout",
     "output_type": "stream",
     "text": [
      "Top 5 Positive Keywords:\n",
      "Top 5 Positive Keywords: \n",
      "Good: 3179\n",
      "Very: 1079\n",
      "Excellent: 301\n",
      "\n",
      "Top 5 Negative Keywords:\n",
      "Average: 3737\n",
      "Poor: 186\n",
      " \n",
      "Average length of review:  7.020730813527379\n",
      "Relationship between review length and rating: -0.4788848381349332\n"
     ]
    }
   ],
   "source": [
    "df['Rating text'].value_counts()\n",
    "\n",
    "def clean_text(text):\n",
    "    text = re.sub(r'[^\\w\\s]', '', text)\n",
    "    text.lower()\n",
    "    text = text.split()\n",
    "    text = [word for word in text if word not in stopwords.words('english')]\n",
    "    return ' '.join(text)\n",
    "    \n",
    "df['Cleaned Reviews'] = df['Rating text'].astype (str).apply(clean_text)\n",
    "\n",
    "def classify_sentiment (text):\n",
    "    analysis = TextBlob(text)\n",
    "    return 'positive' if analysis.sentiment.polarity > 0 else 'negative' if analysis. sentiment.polarity < 0 else 'neutral'\n",
    "\n",
    "df['Sentiment'] = df['Cleaned Reviews'].apply(classify_sentiment)\n",
    "\n",
    "positive_reviews = ' '.join(df[df['Sentiment'] == 'positive']['Cleaned Reviews'])\n",
    "negative_reviews = ' '.join(df[df['Sentiment'] == 'negative']['Cleaned Reviews'])\n",
    "\n",
    "positive_words = Counter(positive_reviews.split())\n",
    "negative_words = Counter(negative_reviews.split())\n",
    "\n",
    "top_positive_words = positive_words.most_common (5)\n",
    "top_negative_words = negative_words.most_common (5)\n",
    "\n",
    "print(\"Top 5 Positive Keywords:\")\n",
    "for word, freq in top_positive_words:\n",
    "    top_positive_words = positive_words.most_common (5)\n",
    "    top_negative_words = negative_words.most_common (5)\n",
    "    \n",
    "print(\"Top 5 Positive Keywords: \")\n",
    "for word, freq in top_positive_words:\n",
    "    print (f\"{word}: {freq}\")\n",
    "    \n",
    "print(\"\\nTop 5 Negative Keywords:\")\n",
    "for word, freq in top_negative_words:\n",
    "    print (f\"{word}: {freq}\")\n",
    "print(\" \")\n",
    "\n",
    "df['Rating length'] = df ['Rating text'].astype(str).apply(len)\n",
    "avg_length = df['Rating length'].mean()\n",
    "print('Average length of review: ', avg_length)\n",
    "correlation = df[['Rating length', 'Aggregate rating']].corr().iloc[0,1]\n",
    "print('Relationship between review length and rating:',correlation)"
   ]
  },
  {
   "cell_type": "markdown",
   "id": "baeec541-81ae-4e17-8eca-f77c0a37a8b4",
   "metadata": {},
   "source": [
    "# Task 2 : Votes Analysis\n",
    "\n",
    "1.  Identify the restaurants with the highest and lowest number of votes.\n",
    "2.  Analyze if there is a correlation between the number of votes and the rating of a restaurant.\n"
   ]
  },
  {
   "cell_type": "code",
   "execution_count": 114,
   "id": "a0300b59-f19e-40fa-8be2-b2c14cd5f431",
   "metadata": {},
   "outputs": [
    {
     "name": "stdout",
     "output_type": "stream",
     "text": [
      "Restaurants with the highest Votes is Toit\n",
      "Restaurants with the lowest Votes is Cantinho da Gula\n",
      "\n",
      "Relationship between Rating and Votes: 0.3136905841954099\n"
     ]
    }
   ],
   "source": [
    "i1=df['Votes'].idxmax()\n",
    "i2=df['Votes'].idxmin()\n",
    "print('Restaurants with the highest Votes is', df['Restaurant Name'].iloc[i1])\n",
    "print('Restaurants with the lowest Votes is', df['Restaurant Name'].iloc[i2])\n",
    "\n",
    "\n",
    "correlation = df[['Aggregate rating', 'Votes']].corr().iloc[0,1]\n",
    "print('\\nRelationship between Rating and Votes:', correlation)\n"
   ]
  },
  {
   "cell_type": "markdown",
   "id": "997ab51f-aff9-48a0-9fc2-3cc94c8da656",
   "metadata": {},
   "source": [
    "# Task 3 : Price Range vs. Online Delivery and Table Booking\n",
    "\n",
    "1.  Analyze if there is a relationship between the price range and the availability of online delivery and table booking.\n",
    "2. Determine if higher-priced restaurants are more likely to offer these services.\n"
   ]
  },
  {
   "cell_type": "code",
   "execution_count": 116,
   "id": "bbc0ee53-d2c9-4bf5-b6ec-1f243f174a82",
   "metadata": {},
   "outputs": [
    {
     "name": "stdout",
     "output_type": "stream",
     "text": [
      "Relationship between the price range and the availability of online delivery and table booking: \n",
      "                      Price range  Has Online delivery  Has Table booking\n",
      "Price range             1.000000             0.077918           0.501925\n",
      "Has Online delivery     0.077918             1.000000           0.101224\n",
      "Has Table booking       0.501925             0.101224           1.000000\n",
      "\n",
      "Online service provider: \n",
      " Price range\n",
      "1    15.774077\n",
      "2    41.310633\n",
      "3    29.190341\n",
      "4     9.044369\n",
      "Name: Has Online delivery, dtype: float64\n",
      "\n",
      "Table booking service provider: \n",
      " Price range\n",
      "1     0.022502\n",
      "2     7.677482\n",
      "3    45.738636\n",
      "4    46.757679\n",
      "Name: Has Table booking, dtype: float64\n"
     ]
    }
   ],
   "source": [
    "label_encoder = preprocessing.LabelEncoder()\n",
    "df['Has Online delivery'] = label_encoder.fit_transform(df['Has Online delivery'])\n",
    "df['Has Table booking'] = label_encoder.fit_transform(df['Has Table booking'])\n",
    "\n",
    "correlation = df[ ['Price range', 'Has Online delivery', 'Has Table booking']].corr()\n",
    "print('Relationship between the price range and the availability of online delivery and table booking: \\n', correlation)\n",
    "\n",
    "online_delivery_proportions = df.groupby('Price range')['Has Online delivery'].mean() * 100\n",
    "table_booking_proportions = df.groupby('Price range')['Has Table booking'].mean() * 100\n",
    "print('\\nOnline service provider: \\n',online_delivery_proportions)\n",
    "print('\\nTable booking service provider: \\n', table_booking_proportions)"
   ]
  },
  {
   "cell_type": "code",
   "execution_count": 123,
   "id": "79fbf8b4-65ac-493d-92bd-b35187fbca74",
   "metadata": {},
   "outputs": [],
   "source": [
    "df.to_csv('Fnal_Restaurants_Data.csv')"
   ]
  },
  {
   "cell_type": "code",
   "execution_count": null,
   "id": "491daeb9-4f96-4d7e-8a5d-e5357af9d404",
   "metadata": {},
   "outputs": [],
   "source": []
  }
 ],
 "metadata": {
  "kernelspec": {
   "display_name": "Python 3 (ipykernel)",
   "language": "python",
   "name": "python3"
  },
  "language_info": {
   "codemirror_mode": {
    "name": "ipython",
    "version": 3
   },
   "file_extension": ".py",
   "mimetype": "text/x-python",
   "name": "python",
   "nbconvert_exporter": "python",
   "pygments_lexer": "ipython3",
   "version": "3.12.4"
  }
 },
 "nbformat": 4,
 "nbformat_minor": 5
}
